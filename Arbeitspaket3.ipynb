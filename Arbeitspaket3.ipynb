{
 "cells": [
  {
   "cell_type": "code",
   "execution_count": 1,
   "id": "471851b5-65bd-40bd-ad6d-9781bbb4ebee",
   "metadata": {},
   "outputs": [],
   "source": [
    "from __future__ import print_function\n",
    "from ipywidgets import interact, interactive, fixed, interact_manual\n",
    "import ipywidgets as widgets\n",
    "from ipywidgets import Box\n",
    "from IPython.core.display import HTML\n",
    "from IPython.display import IFrame\n",
    "\n",
    "import matplotlib.pyplot as plt\n",
    "import numpy as np\n",
    "import math\n",
    "\n",
    "import builtins"
   ]
  },
  {
   "cell_type": "code",
   "execution_count": 2,
   "id": "eabcee23-95cb-403e-9b19-0479d4fe7ba2",
   "metadata": {},
   "outputs": [
    {
     "data": {
      "application/vnd.jupyter.widget-view+json": {
       "model_id": "6d41566c2f754778b45766dd359eddaa",
       "version_major": 2,
       "version_minor": 0
      },
      "text/plain": [
       "A Jupyter Widget"
      ]
     },
     "metadata": {},
     "output_type": "display_data"
    }
   ],
   "source": [
    "file = builtins.open(\"Bilder/Logo.png\", \"rb\")\n",
    "image = file.read()\n",
    "bild_Logo = widgets.Image(\n",
    "    value=image,\n",
    "    format='png',\n",
    "    width=200,\n",
    "   #height=128,\n",
    "    )\n",
    "bild_Logo"
   ]
  },
  {
   "cell_type": "markdown",
   "id": "32a927d7-4872-40ea-9882-f3a7dc924ba6",
   "metadata": {},
   "source": [
    "# <span style=\"font-family:Century Gothic;color:DarkCyan\">Arbeitsblatt 3</span>\n",
    "\n",
    "## <span style=\"font-family:Century Gothic;color:DarkCyan\">Aufgabe 1</span>\n",
    "\n",
    "Ein Seniorenwohnheim wird in der Nähe eines Flughafens betrieben, wodurch eine erhöhte gesundheitsschädliche Lärmbelastung für die Seniorinnen und Senioren entsteht. Die Gewinnfunktionen $G_i$ für die Betreibenden $F$ (Flughafen) und $S$ (Seniorenwohnheim) werden wie folgt dargestellt: \n",
    "\n",
    "$G_F (x)=48x- x^2$\n",
    "\n",
    "$G_S (y,x)=36y- y^2-2x$\n",
    "\n",
    "mit $x$ als Anzahl der Abflüge und Landungen pro Tag und $y$ als Anzahl der Wohneinheiten im Seniorenwohnheim.\n",
    "\n",
    "### <span style=\"font-family:Century Gothic;color:DarkCyan\">Aufgabe 1.1</span>\n",
    "\n",
    "Bestimmen Sie die Gewinne des Flughafens $G_F$ und des Seniorenwohnheims $G_S$ sowie den Gesamtgewinn $GG$ im Marktgleichgewicht."
   ]
  },
  {
   "cell_type": "code",
   "execution_count": 3,
   "id": "bf888911-7b2d-4358-88a7-ea65f7b8834f",
   "metadata": {},
   "outputs": [
    {
     "data": {
      "application/vnd.jupyter.widget-view+json": {
       "model_id": "fee7aab71d93489b8794ad073777ff38",
       "version_major": 2,
       "version_minor": 0
      },
      "text/plain": [
       "A Jupyter Widget"
      ]
     },
     "metadata": {},
     "output_type": "display_data"
    }
   ],
   "source": [
    "text_1 = widgets.IntText(\n",
    "    value=0,\n",
    "    description='$G_F$',\n",
    "    disabled=False\n",
    ")\n",
    "\n",
    "\n",
    "button_1 = widgets.Button(\n",
    "    description='Auswertung',\n",
    "    disabled=False,\n",
    "    button_style='', # 'success', 'info', 'warning', 'danger' or ''\n",
    "    tooltip='Bitte klicken.',\n",
    "    #icon='check' # (FontAwesome names without the `fa-` prefix)\n",
    ")\n",
    "\n",
    "\n",
    "# define function\n",
    "def check(button_instance):\n",
    "  if text_1.value  == 576:\n",
    "    button_1.button_style = 'success'\n",
    "    button_1.description = 'Richtig!'\n",
    "  else:\n",
    "    button_1.button_style = 'danger'\n",
    "    button_1.description = 'Leider falsch.'\n",
    "\n",
    "# set function as on_click on button\n",
    "button_1.on_click(check)\n",
    "\n",
    "# nebeneinander in Box anzeigen\n",
    "items = [text_1, button_1]\n",
    "box_1 = Box(children=items)\n",
    "display(box_1) # <- this one command displays all children"
   ]
  },
  {
   "cell_type": "code",
   "execution_count": 4,
   "id": "01e7cf3c-e389-4ece-848d-1a3762182b64",
   "metadata": {},
   "outputs": [
    {
     "data": {
      "application/vnd.jupyter.widget-view+json": {
       "model_id": "1f9da5fec645431787a7246c15bfbf44",
       "version_major": 2,
       "version_minor": 0
      },
      "text/plain": [
       "A Jupyter Widget"
      ]
     },
     "metadata": {},
     "output_type": "display_data"
    }
   ],
   "source": [
    "text_112 = widgets.IntText(\n",
    "    value=0,\n",
    "    description='$G_S$',\n",
    "    disabled=False\n",
    ")\n",
    "\n",
    "\n",
    "button_112 = widgets.Button(\n",
    "    description='Auswertung',\n",
    "    disabled=False,\n",
    "    button_style='', # 'success', 'info', 'warning', 'danger' or ''\n",
    "    tooltip='Bitte klicken.',\n",
    "    #icon='check' # (FontAwesome names without the `fa-` prefix)\n",
    ")\n",
    "\n",
    "\n",
    "# define function\n",
    "def check(button_instance):\n",
    "  if text_112.value  == 276:\n",
    "    button_112.button_style = 'success'\n",
    "    button_112.description = 'Richtig!'\n",
    "  else:\n",
    "    button_112.button_style = 'danger'\n",
    "    button_112.description = 'Leider falsch.'\n",
    "\n",
    "# set function as on_click on button\n",
    "button_112.on_click(check)\n",
    "\n",
    "# nebeneinander in Box anzeigen\n",
    "items = [text_112, button_112]\n",
    "box_112 = Box(children=items)\n",
    "display(box_112) # <- this one command displays all children"
   ]
  },
  {
   "cell_type": "code",
   "execution_count": 5,
   "id": "104af1b1-d831-48db-8655-39edf6b0486e",
   "metadata": {},
   "outputs": [
    {
     "data": {
      "application/vnd.jupyter.widget-view+json": {
       "model_id": "fbbc9771ce634bb087c5af78d573c2b4",
       "version_major": 2,
       "version_minor": 0
      },
      "text/plain": [
       "A Jupyter Widget"
      ]
     },
     "metadata": {},
     "output_type": "display_data"
    }
   ],
   "source": [
    "text_13 = widgets.IntText(\n",
    "    value=0,\n",
    "    description='$GG$',\n",
    "    disabled=False\n",
    ")\n",
    "\n",
    "\n",
    "button_13 = widgets.Button(\n",
    "    description='Auswertung',\n",
    "    disabled=False,\n",
    "    button_style='', # 'success', 'info', 'warning', 'danger' or ''\n",
    "    tooltip='Bitte klicken.',\n",
    "    #icon='check' # (FontAwesome names without the `fa-` prefix)\n",
    ")\n",
    "\n",
    "\n",
    "# define function\n",
    "def check(button_instance):\n",
    "  if text_13.value  == 852:\n",
    "    button_13.button_style = 'success'\n",
    "    button_13.description = 'Richtig!'\n",
    "  else:\n",
    "    button_13.button_style = 'danger'\n",
    "    button_13.description = 'Leider falsch.'\n",
    "\n",
    "# set function as on_click on button\n",
    "button_13.on_click(check)\n",
    "\n",
    "# nebeneinander in Box anzeigen\n",
    "items = [text_13, button_13]\n",
    "box_13 = Box(children=items)\n",
    "display(box_13) # <- this one command displays all children"
   ]
  },
  {
   "cell_type": "markdown",
   "id": "c97fc818-d9b0-4cb5-bf0f-e039033a4424",
   "metadata": {},
   "source": [
    "### <span style=\"font-family:Century Gothic;color:DarkCyan\">Aufgabe 1.2</span>\n",
    "\n",
    "Bestimmen Sie die Gewinne des Flughafens $G_F$ und des Seniorenwohnheims $G_S$ sowie den Gesamtgewinn $GG$ im sozialen Optimum."
   ]
  },
  {
   "cell_type": "code",
   "execution_count": 6,
   "id": "8ed585d0-ab36-4f73-a7f1-897efb586a20",
   "metadata": {},
   "outputs": [
    {
     "data": {
      "application/vnd.jupyter.widget-view+json": {
       "model_id": "ba8270d47f2c49bea7be433cf414bff7",
       "version_major": 2,
       "version_minor": 0
      },
      "text/plain": [
       "A Jupyter Widget"
      ]
     },
     "metadata": {},
     "output_type": "display_data"
    }
   ],
   "source": [
    "text_4 = widgets.IntText(\n",
    "    value=0,\n",
    "    description='$G_F$',\n",
    "    disabled=False\n",
    ")\n",
    "\n",
    "\n",
    "button_4 = widgets.Button(\n",
    "    description='Auswertung',\n",
    "    disabled=False,\n",
    "    button_style='', # 'success', 'info', 'warning', 'danger' or ''\n",
    "    tooltip='Bitte klicken.',\n",
    "    #icon='check' # (FontAwesome names without the `fa-` prefix)\n",
    ")\n",
    "\n",
    "\n",
    "# define function\n",
    "def check(button_instance):\n",
    "  if text_4.value  == 575:\n",
    "    button_4.button_style = 'success'\n",
    "    button_4.description = 'Richtig!'\n",
    "  else:\n",
    "    button_4.button_style = 'danger'\n",
    "    button_4.description = 'Leider falsch.'\n",
    "\n",
    "# set function as on_click on button\n",
    "button_4.on_click(check)\n",
    "\n",
    "# nebeneinander in Box anzeigen\n",
    "items = [text_4, button_4]\n",
    "box_4 = Box(children=items)\n",
    "display(box_4) # <- this one command displays all children"
   ]
  },
  {
   "cell_type": "code",
   "execution_count": 7,
   "id": "a394ce33-ea36-41a5-8c26-4be8174b9371",
   "metadata": {},
   "outputs": [
    {
     "data": {
      "application/vnd.jupyter.widget-view+json": {
       "model_id": "beac4967435343308cc6a6728ac186c4",
       "version_major": 2,
       "version_minor": 0
      },
      "text/plain": [
       "A Jupyter Widget"
      ]
     },
     "metadata": {},
     "output_type": "display_data"
    }
   ],
   "source": [
    "text_5 = widgets.IntText(\n",
    "    value=0,\n",
    "    description='$G_S$',\n",
    "    disabled=False\n",
    ")\n",
    "\n",
    "\n",
    "button_5 = widgets.Button(\n",
    "    description='Auswertung',\n",
    "    disabled=False,\n",
    "    button_style='', # 'success', 'info', 'warning', 'danger' or ''\n",
    "    tooltip='Bitte klicken.',\n",
    "    #icon='check' # (FontAwesome names without the `fa-` prefix)\n",
    ")\n",
    "\n",
    "\n",
    "# define function\n",
    "def check(button_instance):\n",
    "  if text_5.value  == 278:\n",
    "    button_5.button_style = 'success'\n",
    "    button_5.description = 'Richtig!'\n",
    "  else:\n",
    "    button_5.button_style = 'danger'\n",
    "    button_5.description = 'Leider falsch.'\n",
    "\n",
    "# set function as on_click on button\n",
    "button_5.on_click(check)\n",
    "\n",
    "# nebeneinander in Box anzeigen\n",
    "items = [text_5, button_5]\n",
    "box_5 = Box(children=items)\n",
    "display(box_5) # <- this one command displays all children"
   ]
  },
  {
   "cell_type": "code",
   "execution_count": 8,
   "id": "783d0cd6-066e-4368-a862-99fa2e896336",
   "metadata": {},
   "outputs": [
    {
     "data": {
      "application/vnd.jupyter.widget-view+json": {
       "model_id": "ecd16e99c5c449d7ac07d4e03dd83a92",
       "version_major": 2,
       "version_minor": 0
      },
      "text/plain": [
       "A Jupyter Widget"
      ]
     },
     "metadata": {},
     "output_type": "display_data"
    }
   ],
   "source": [
    "text_6 = widgets.IntText(\n",
    "    value=0,\n",
    "    description='$GG$',\n",
    "    disabled=False\n",
    ")\n",
    "\n",
    "\n",
    "button_6 = widgets.Button(\n",
    "    description='Auswertung',\n",
    "    disabled=False,\n",
    "    button_style='', # 'success', 'info', 'warning', 'danger' or ''\n",
    "    tooltip='Bitte klicken.',\n",
    "    #icon='check' # (FontAwesome names without the `fa-` prefix)\n",
    ")\n",
    "\n",
    "\n",
    "# define function\n",
    "def check(button_instance):\n",
    "  if text_6.value  == 853:\n",
    "    button_6.button_style = 'success'\n",
    "    button_6.description = 'Richtig!'\n",
    "  else:\n",
    "    button_6.button_style = 'danger'\n",
    "    button_6.description = 'Leider falsch.'\n",
    "\n",
    "# set function as on_click on button\n",
    "button_6.on_click(check)\n",
    "\n",
    "# nebeneinander in Box anzeigen\n",
    "items = [text_6, button_6]\n",
    "box_6 = Box(children=items)\n",
    "display(box_6) # <- this one command displays all children"
   ]
  },
  {
   "cell_type": "markdown",
   "id": "36f5380f-fe84-4e8f-b384-2b6166f08dda",
   "metadata": {},
   "source": [
    "### <span style=\"font-family:Century Gothic;color:DarkCyan\">Aufgabe 1.3</span>\n",
    "Wo ist der Gesamtgewinn höher? "
   ]
  },
  {
   "cell_type": "code",
   "execution_count": 9,
   "id": "9bbd59e8-d5e7-473f-8073-da0de46eff26",
   "metadata": {},
   "outputs": [
    {
     "data": {
      "application/vnd.jupyter.widget-view+json": {
       "model_id": "326c140bfd964e0eac60ecae60c87529",
       "version_major": 2,
       "version_minor": 0
      },
      "text/plain": [
       "A Jupyter Widget"
      ]
     },
     "metadata": {},
     "output_type": "display_data"
    },
    {
     "data": {
      "application/vnd.jupyter.widget-view+json": {
       "model_id": "3859031b96b94f148bfa400c2fbef845",
       "version_major": 2,
       "version_minor": 0
      },
      "text/plain": [
       "A Jupyter Widget"
      ]
     },
     "metadata": {},
     "output_type": "display_data"
    }
   ],
   "source": [
    "opinion_7 = widgets.RadioButtons(\n",
    "    options=['Im Marktgleichgewicht','Im Sozialen Optimum'],\n",
    "    value=None,\n",
    "    #description='Faktoren',\n",
    "    disabled=False\n",
    ")\n",
    "\n",
    "button_7 = widgets.Button(\n",
    "    description='Auswertung',\n",
    "    disabled=False,\n",
    "    button_style='', # 'success', 'info', 'warning', 'danger' or ''\n",
    "    tooltip='Bitte klicken.',\n",
    "    #icon='check' # (FontAwesome names without the `fa-` prefix)\n",
    ")\n",
    "\n",
    "# define function\n",
    "def check(button_7):\n",
    "  if opinion_7.value == 'Im Sozialen Optimum':\n",
    "    button_7.button_style = 'success'\n",
    "    button_7.description = 'Richtig!'\n",
    "  else:\n",
    "    button_7.button_style = 'danger'\n",
    "    button_7.description = 'Leider Falsch'\n",
    "\n",
    "# set function as on_click on button\n",
    "button_7.on_click(check)\n",
    "\n",
    "display(opinion_7)\n",
    "display(button_7)"
   ]
  },
  {
   "cell_type": "markdown",
   "id": "cf7edd6e-aeab-4333-9d27-6987b0d74197",
   "metadata": {},
   "source": [
    "## <span style=\"font-family:Century Gothic;color:DarkCyan\">Aufgabe 2</span>\n",
    "Der Flughafenbetreiber und der Betreiber des Seniorenwohnheims beginnen, miteinander zu verhandeln.\n",
    "\n",
    "### <span style=\"font-family:Century Gothic;color:DarkCyan\">Aufgabe 2.1</span>\n",
    " Welches Theorem beschreibt die hier vorliegende Verhandlungssituation? Welche Bedingungen setzt das Theorem voraus?"
   ]
  },
  {
   "cell_type": "code",
   "execution_count": 10,
   "id": "472fd76e-9aad-494c-8009-8a09d0927040",
   "metadata": {},
   "outputs": [
    {
     "data": {
      "application/vnd.jupyter.widget-view+json": {
       "model_id": "4070c83d448e4c38839b9e84888a48e2",
       "version_major": 2,
       "version_minor": 0
      },
      "text/plain": [
       "A Jupyter Widget"
      ]
     },
     "metadata": {},
     "output_type": "display_data"
    }
   ],
   "source": [
    "accordion_so = widgets.Accordion([\n",
    "    widgets.HTML(\n",
    "    value=\"<b>Coase Theorem</b>: Internalisierung der externen Effekte durch private Verhandlungen zwischen Flughafenbetreiber und Seniorenwohnheim.\"\n",
    "    ),\n",
    "    widgets.HTML(\n",
    "    value=\"<ul>\\\n",
    "    <li>Haftungspflicht für den entstandenen Schaden ist eindeutig dem Flughafenbetreiber zuzuordnen (Eigentumsrechte klar definiert) </li>\\\n",
    "    <li>Der „Schädiger“ (Flughafenbetreiber) und der „Geschädigte“ (Seniorenwohnheim) sind vollständig informiert und verhandeln ohne Kosten </li>\\\n",
    "    </ul>\"\n",
    "    )], selected_index=None)\n",
    "accordion_so.set_title(0, 'Theorem')\n",
    "accordion_so.set_title(1, 'Bedingungen')\n",
    "\n",
    "accordion_so"
   ]
  },
  {
   "cell_type": "markdown",
   "id": "153b06bf-9e2b-4d6a-baff-281335ceef87",
   "metadata": {},
   "source": [
    "### <span style=\"font-family:Century Gothic;color:DarkCyan\">Aufgabe 2.2</span>\n",
    "In den Verhandlungen legt der Betreiber des Seniorenheims dem Flughafenbetreiber dar, dass ihm Kosten in Höhe von $2x$ durch den Flughafenbetrieb entstehen. Der Flughafenbetreiber entschädigt ihn dafür. Wie verändern sich die privaten Gewinne des Flughafenbetreibers $G^{neu}_{F}$ bzw. des Seniorenheims $G^{neu}_S$?"
   ]
  },
  {
   "cell_type": "code",
   "execution_count": 11,
   "id": "6573a978-065f-452f-9868-3a787a4ddfe7",
   "metadata": {},
   "outputs": [
    {
     "data": {
      "application/vnd.jupyter.widget-view+json": {
       "model_id": "114db5baeb65480aa267ce7731093ae9",
       "version_major": 2,
       "version_minor": 0
      },
      "text/plain": [
       "A Jupyter Widget"
      ]
     },
     "metadata": {},
     "output_type": "display_data"
    }
   ],
   "source": [
    "text_8 = widgets.IntText(\n",
    "    value=0,\n",
    "    description='$G^{neu}_{F}$',\n",
    "    disabled=False\n",
    ")\n",
    "\n",
    "\n",
    "button_8 = widgets.Button(\n",
    "    description='Auswertung',\n",
    "    disabled=False,\n",
    "    button_style='', # 'success', 'info', 'warning', 'danger' or ''\n",
    "    tooltip='Bitte klicken.',\n",
    "    #icon='check' # (FontAwesome names without the `fa-` prefix)\n",
    ")\n",
    "\n",
    "\n",
    "# define function\n",
    "def check(button_instance):\n",
    "  if text_8.value  == 529:\n",
    "    button_8.button_style = 'success'\n",
    "    button_8.description = 'Richtig!'\n",
    "  else:\n",
    "    button_8.button_style = 'danger'\n",
    "    button_8.description = 'Leider falsch.'\n",
    "\n",
    "# set function as on_click on button\n",
    "button_8.on_click(check)\n",
    "\n",
    "# nebeneinander in Box anzeigen\n",
    "items = [text_8, button_8]\n",
    "box_8 = Box(children=items)\n",
    "display(box_8) # <- this one command displays all children"
   ]
  },
  {
   "cell_type": "code",
   "execution_count": 12,
   "id": "17eb84f6-a913-4a6c-8824-33c3176404fd",
   "metadata": {},
   "outputs": [
    {
     "data": {
      "application/vnd.jupyter.widget-view+json": {
       "model_id": "4e581edb108e457abb6def9a605c439a",
       "version_major": 2,
       "version_minor": 0
      },
      "text/plain": [
       "A Jupyter Widget"
      ]
     },
     "metadata": {},
     "output_type": "display_data"
    }
   ],
   "source": [
    "text_9 = widgets.IntText(\n",
    "    value=0,\n",
    "    description='$G^{neu}_{S}$',\n",
    "    disabled=False\n",
    ")\n",
    "\n",
    "\n",
    "button_9 = widgets.Button(\n",
    "    description='Auswertung',\n",
    "    disabled=False,\n",
    "    button_style='', # 'success', 'info', 'warning', 'danger' or ''\n",
    "    tooltip='Bitte klicken.',\n",
    "    #icon='check' # (FontAwesome names without the `fa-` prefix)\n",
    ")\n",
    "\n",
    "\n",
    "# define function\n",
    "def check(button_instance):\n",
    "  if text_9.value  == 324:\n",
    "    button_9.button_style = 'success'\n",
    "    button_9.description = 'Richtig!'\n",
    "  else:\n",
    "    button_9.button_style = 'danger'\n",
    "    button_9.description = 'Leider falsch.'\n",
    "\n",
    "# set function as on_click on button\n",
    "button_9.on_click(check)\n",
    "\n",
    "# nebeneinander in Box anzeigen\n",
    "items = [text_9, button_9]\n",
    "box_9 = Box(children=items)\n",
    "display(box_9) # <- this one command displays all children"
   ]
  },
  {
   "cell_type": "markdown",
   "id": "2e54b5f3-7832-4f88-8284-58685323bcca",
   "metadata": {},
   "source": [
    "### <span style=\"font-family:Century Gothic;color:DarkCyan\">Aufgabe 2.3</span>\n",
    "Ist es in diesem Fallbeispiel wohlfahrtsökonomisch sinnvoll, dass der Flughafenbetreiber den Betreiber des Seniorenheims für die lärmbedingten Externalitäten entschädigen muss? Erklären Sie Ihre Schlussfolgerung."
   ]
  },
  {
   "cell_type": "code",
   "execution_count": 16,
   "id": "f3be5686-5d4b-41b7-aa0c-b55789d53f4d",
   "metadata": {},
   "outputs": [
    {
     "data": {
      "application/vnd.jupyter.widget-view+json": {
       "model_id": "8bae2d2515a74423ab1b49f4db811079",
       "version_major": 2,
       "version_minor": 0
      },
      "text/plain": [
       "A Jupyter Widget"
      ]
     },
     "metadata": {},
     "output_type": "display_data"
    },
    {
     "data": {
      "application/vnd.jupyter.widget-view+json": {
       "model_id": "72a3086c1b004fce82f4705476b7333b",
       "version_major": 2,
       "version_minor": 0
      },
      "text/plain": [
       "A Jupyter Widget"
      ]
     },
     "metadata": {},
     "output_type": "display_data"
    }
   ],
   "source": [
    "opinion_10 = widgets.RadioButtons(\n",
    "    options=['Nein, da der Gesamtgewinn sinkt','Ja, da der Gesamtgewinn steigt'],\n",
    "    value=None,\n",
    "    #description='Faktoren',\n",
    "    disabled=False\n",
    ")\n",
    "\n",
    "button_10 = widgets.Button(\n",
    "    description='Auswertung',\n",
    "    disabled=False,\n",
    "    button_style='', # 'success', 'info', 'warning', 'danger' or ''\n",
    "    tooltip='Bitte klicken.',\n",
    "    #icon='check' # (FontAwesome names without the `fa-` prefix)\n",
    ")\n",
    "\n",
    "# define function\n",
    "def check(button_10):\n",
    "  if opinion_10.value == 'Ja, da der Gesamtgewinn steigt':\n",
    "    button_10.button_style = 'success'\n",
    "    button_10.description = 'Richtig!'\n",
    "  else:\n",
    "    button_10.button_style = 'danger'\n",
    "    button_10.description = 'Leider Falsch'\n",
    "\n",
    "# set function as on_click on button\n",
    "button_10.on_click(check)\n",
    "\n",
    "display(opinion_10)\n",
    "display(button_10)"
   ]
  },
  {
   "cell_type": "markdown",
   "id": "65285851-e1ef-4a4b-b4c4-71026eb8f48f",
   "metadata": {},
   "source": [
    "## <span style=\"font-family:Century Gothic;color:DarkCyan\">Aufgabe 3</span>\n",
    "Der Flughafenbetreiber und der Betreiber des Seniorenwohnheims beschließen, ihre Betriebe zu fusionieren. Es entsteht die Fly-and-Relax GmbH. \n",
    "\n",
    "### <span style=\"font-family:Century Gothic;color:DarkCyan\">Aufgabe 3.1</span>\n",
    "Welchen Gewinn $G_{FR}$ erwirtschaftet dieses neue Unternehmen?"
   ]
  },
  {
   "cell_type": "code",
   "execution_count": 17,
   "id": "c35c42bd-1280-4254-9262-75ed02808269",
   "metadata": {},
   "outputs": [
    {
     "data": {
      "application/vnd.jupyter.widget-view+json": {
       "model_id": "33e8c06be49b45bc83d34df76472d812",
       "version_major": 2,
       "version_minor": 0
      },
      "text/plain": [
       "A Jupyter Widget"
      ]
     },
     "metadata": {},
     "output_type": "display_data"
    }
   ],
   "source": [
    "text_11 = widgets.IntText(\n",
    "    value=0,\n",
    "    description='$G_{FR}$',\n",
    "    disabled=False\n",
    ")\n",
    "\n",
    "\n",
    "button_11 = widgets.Button(\n",
    "    description='Auswertung',\n",
    "    disabled=False,\n",
    "    button_style='', # 'success', 'info', 'warning', 'danger' or ''\n",
    "    tooltip='Bitte klicken.',\n",
    "    #icon='check' # (FontAwesome names without the `fa-` prefix)\n",
    ")\n",
    "\n",
    "\n",
    "# define function\n",
    "def check(button_instance):\n",
    "  if text_11.value  == 853:\n",
    "    button_11.button_style = 'success'\n",
    "    button_11.description = 'Richtig!'\n",
    "  else:\n",
    "    button_11.button_style = 'danger'\n",
    "    button_11.description = 'Leider falsch.'\n",
    "\n",
    "# set function as on_click on button\n",
    "button_11.on_click(check)\n",
    "\n",
    "# nebeneinander in Box anzeigen\n",
    "items = [text_11, button_11]\n",
    "box_11 = Box(children=items)\n",
    "display(box_11) # <- this one command displays all children"
   ]
  },
  {
   "cell_type": "markdown",
   "id": "ddf917ac-f6f3-478c-aa91-7aeb029c845f",
   "metadata": {},
   "source": [
    "### <span style=\"font-family:Century Gothic;color:DarkCyan\">Aufgabe 3.2</span>\n",
    "Welche der zur Verfügung stehenden Optionen erzielt aus gesamtwirtschaftlicher Sicht den höchsten Gewinn?"
   ]
  },
  {
   "cell_type": "code",
   "execution_count": 15,
   "id": "dbc5667d-8d33-48ab-9414-dadd0cfc661c",
   "metadata": {},
   "outputs": [
    {
     "data": {
      "application/vnd.jupyter.widget-view+json": {
       "model_id": "8b39ac5fa2da4b01a6fb3a685000e12d",
       "version_major": 2,
       "version_minor": 0
      },
      "text/plain": [
       "A Jupyter Widget"
      ]
     },
     "metadata": {},
     "output_type": "display_data"
    },
    {
     "data": {
      "application/vnd.jupyter.widget-view+json": {
       "model_id": "68bf85650cbd458ea6d1b291b78ebe91",
       "version_major": 2,
       "version_minor": 0
      },
      "text/plain": [
       "A Jupyter Widget"
      ]
     },
     "metadata": {},
     "output_type": "display_data"
    }
   ],
   "source": [
    "opinion_12 = widgets.RadioButtons(\n",
    "    options=['Unabhängige Unternehmen','Verhandlungslösung','Fusion'],\n",
    "    value=None,\n",
    "    #description='Faktoren',\n",
    "    disabled=False\n",
    ")\n",
    "\n",
    "button_12 = widgets.Button(\n",
    "    description='Auswertung',\n",
    "    disabled=False,\n",
    "    button_style='', # 'success', 'info', 'warning', 'danger' or ''\n",
    "    tooltip='Bitte klicken.',\n",
    "    #icon='check' # (FontAwesome names without the `fa-` prefix)\n",
    ")\n",
    "\n",
    "# define function\n",
    "def check(button_12):\n",
    "  if opinion_12.value == 'Fusion':\n",
    "    button_12.button_style = 'success'\n",
    "    button_12.description = 'Richtig!'\n",
    "  else:\n",
    "    button_12.button_style = 'danger'\n",
    "    button_12.description = 'Leider Falsch'\n",
    "\n",
    "# set function as on_click on button\n",
    "button_12.on_click(check)\n",
    "\n",
    "display(opinion_12)\n",
    "display(button_12)"
   ]
  },
  {
   "cell_type": "markdown",
   "id": "bc3bccfc-726a-418a-b85f-b166641309a7",
   "metadata": {},
   "source": [
    "## <span style=\"font-family:Century Gothic;color:DarkCyan\">Aufgabe 4</span>\n",
    "Bitte nehmen Sie an dieser kurzen undr anonymen Umfrage teil: \n",
    "https://ww2.unipark.de/uc/s-mielcare/aaf8/\n",
    "\n",
    "*Die Ergebnisse der Umfrage werden wir in der Präsenzveranstaltung besprechen.*"
   ]
  },
  {
   "cell_type": "code",
   "execution_count": null,
   "id": "d3401279-569d-4e03-b75b-0ff92a3db91e",
   "metadata": {},
   "outputs": [],
   "source": []
  }
 ],
 "metadata": {
  "kernelspec": {
   "display_name": "Python 3 (ipykernel)",
   "language": "python",
   "name": "python3"
  },
  "language_info": {
   "codemirror_mode": {
    "name": "ipython",
    "version": 3
   },
   "file_extension": ".py",
   "mimetype": "text/x-python",
   "name": "python",
   "nbconvert_exporter": "python",
   "pygments_lexer": "ipython3",
   "version": "3.7.3"
  }
 },
 "nbformat": 4,
 "nbformat_minor": 5
}
